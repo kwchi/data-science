{
 "cells": [
  {
   "cell_type": "markdown",
   "metadata": {},
   "source": [
    "# Лабораторна робота №1 Інтелектуальний Аналіз Даних\n",
    "## Підготовка робочого середовища та ознайомлення з Jupyter Notebook\n",
    "<b>Виконала:</b> студентка МІТ-31, Панченко Владислава\n",
    "\n",
    "\n",
    "<b>Завдання:</b>\n",
    "- Напишіть код, який запитує у користувача його ім’я та виводить привітання: Hello, [name]!."
   ]
  },
  {
   "cell_type": "code",
   "execution_count": null,
   "metadata": {},
   "outputs": [],
   "source": [
    "name = input(\"Ваше ім'я: \")\n",
    "print(\"Hello \"+name+\"!\")"
   ]
  },
  {
   "cell_type": "markdown",
   "metadata": {},
   "source": [
    "- Використовуйте бібліотеку NumPy для створення масиву з 10 випадкових чисел та обчисліть середнє значення цього масиву.\n"
   ]
  },
  {
   "cell_type": "code",
   "execution_count": 22,
   "metadata": {},
   "outputs": [
    {
     "name": "stdout",
     "output_type": "stream",
     "text": [
      "[92 31 31 86 75 38 50 29 85 75]\n",
      "59.2\n"
     ]
    }
   ],
   "source": [
    "import numpy as np\n",
    "\n",
    "array = np.random.randint(1, 99, size=10)\n",
    "\n",
    "meanarray = np.mean(array)\n",
    "\n",
    "print(array)\n",
    "print(meanarray)"
   ]
  }
 ],
 "metadata": {
  "kernelspec": {
   "display_name": "Python 3",
   "language": "python",
   "name": "python3"
  },
  "language_info": {
   "codemirror_mode": {
    "name": "ipython",
    "version": 3
   },
   "file_extension": ".py",
   "mimetype": "text/x-python",
   "name": "python",
   "nbconvert_exporter": "python",
   "pygments_lexer": "ipython3",
   "version": "3.12.1"
  }
 },
 "nbformat": 4,
 "nbformat_minor": 2
}
