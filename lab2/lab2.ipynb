{
 "cells": [
  {
   "cell_type": "markdown",
   "metadata": {},
   "source": [
    "# Лабораторна робота №2 ІАД\n",
    "\n",
    "<b>Тема:</b>  Використання NumPy, Pandas та Matplotlib для обробки даних та візуалізації результатів<br>\n",
    "<b>Мета:</b> Ознайомитися з основами роботи з бібліотеками NumPy, Pandas та Matplotlib для аналізу даних, проведення базових операцій з даними та візуалізації результатів.<br>\n",
    "<b>Виконала:</b> студентка МІТ-31, Панченко Владислава\n"
   ]
  },
  {
   "cell_type": "markdown",
   "metadata": {},
   "source": [
    "<b>Numpy</b>\n",
    "- Імпортуйте бібліотеку NumPy.\n",
    "- Створіть набір даних з використанням <i>arange</i> для лінійних значень та <i>random</i> для випадкових чисел.\n",
    "- Виконайте CRUD операції (Create, Read, Update, Delete) над масивами даних.\n"
   ]
  },
  {
   "cell_type": "code",
   "execution_count": 78,
   "metadata": {},
   "outputs": [
    {
     "name": "stdout",
     "output_type": "stream",
     "text": [
      "[0 1 2 3 4 5 6 7 8 9]\n",
      "[33 71 86 32 14 72 57 25 80 42]\n",
      "Updated: [ 0  1  2  3  4  5  6  7  8 10]\n",
      "Updated: [ 33  71  86  32  14  72  57  25  80 142]\n"
     ]
    }
   ],
   "source": [
    "import numpy as np\n",
    "\n",
    "#create\n",
    "array_arange = np.arange(10)\n",
    "array_random = np.random.randint(1, 99, size=10)\n",
    "\n",
    "#read\n",
    "print(array_arange)\n",
    "print(array_random)\n",
    "\n",
    "#update\n",
    "array_arange[9] = 10\n",
    "array_random[9] += 100\n",
    "print(\"Updated:\", array_arange)\n",
    "print(\"Updated:\", array_random)\n",
    "\n",
    "#delete\n",
    "del array_random\n",
    "del array_arange"
   ]
  },
  {
   "cell_type": "markdown",
   "metadata": {},
   "source": [
    "<b>Pandas</b>\n",
    "- Імпортуйте бібліотеку Pandas.\n",
    "- Створіть DataFrame різними способами, зокрема з масиву NumPy та з використанням словників.\n",
    "- Виконайте маніпуляції з даними: відображення перших рядків (head), опис статистики (describe), індексація (iloc, loc)."
   ]
  },
  {
   "cell_type": "code",
   "execution_count": 77,
   "metadata": {},
   "outputs": [
    {
     "name": "stdout",
     "output_type": "stream",
     "text": [
      "  ID    name age\n",
      "0  1  Holmes   5\n",
      "   ID    Name  Age\n",
      "0   1  Holmes   24\n",
      "1   2  Watson   25\n",
      "       ID    name age\n",
      "count   4       4   4\n",
      "unique  4       4   4\n",
      "top     1  Holmes   5\n",
      "freq    1       1   1\n",
      "             ID        Age\n",
      "count  4.000000   4.000000\n",
      "mean   2.500000  26.750000\n",
      "std    1.290994   2.753785\n",
      "min    1.000000  24.000000\n",
      "25%    1.750000  24.750000\n",
      "50%    2.500000  26.500000\n",
      "75%    3.250000  28.500000\n",
      "max    4.000000  30.000000\n"
     ]
    }
   ],
   "source": [
    "import pandas as pd\n",
    "import numpy as np\n",
    "\n",
    "data_numpy = np.array([[1, 'Holmes', 5],\n",
    "                        [2, 'Watson', 24],\n",
    "                        [3, 'Huddson', 28],\n",
    "                        [4, 'Gregson', 30]])\n",
    "dataframe_array = pd.DataFrame(data_numpy, columns=['ID', 'name', 'age'])\n",
    "\n",
    "data_dict = {\n",
    "    'ID': [1, 2, 3, 4],\n",
    "    'Name': ['Holmes', 'Watson', 'Huddson', 'Gregson'],\n",
    "    'Age': [24, 25, 28, 30]\n",
    "}\n",
    "dataframe_dict = pd.DataFrame(data_dict)\n",
    "\n",
    "#відображення перших рядків\n",
    "print(dataframe_array.head(1))\n",
    "print(dataframe_dict.head(2))\n",
    "\n",
    "#опис статистики\n",
    "print(dataframe_array.describe())\n",
    "print(dataframe_dict.describe())"
   ]
  },
  {
   "cell_type": "code",
   "execution_count": 76,
   "metadata": {},
   "outputs": [
    {
     "name": "stdout",
     "output_type": "stream",
     "text": [
      "\n",
      "Рядок 1:\n",
      "ID           1\n",
      "Name    Holmes\n",
      "Age         24\n",
      "Name: 0, dtype: object\n",
      "\n",
      "Рядок 2:\n",
      "ID           2\n",
      "Name    Watson\n",
      "Age         25\n",
      "Name: 1, dtype: object\n",
      "\n",
      "Рядок 3:\n",
      "ID            3\n",
      "name    Huddson\n",
      "age          28\n",
      "Name: 2, dtype: object\n",
      "\n",
      "Рядок 4:\n",
      "ID            4\n",
      "name    Gregson\n",
      "age          30\n",
      "Name: 3, dtype: object\n"
     ]
    }
   ],
   "source": [
    "import pandas as pd\n",
    "import numpy as np\n",
    "\n",
    "data_numpy = np.array([[1, 'Holmes', 5],\n",
    "                        [2, 'Watson', 24],\n",
    "                        [3, 'Huddson', 28],\n",
    "                        [4, 'Gregson', 30]])\n",
    "dataframe_array = pd.DataFrame(data_numpy, columns=['ID', 'name', 'age'])\n",
    "\n",
    "data_dict = {\n",
    "    'ID': [1, 2, 3, 4],\n",
    "    'Name': ['Holmes', 'Watson', 'Huddson', 'Gregson'],\n",
    "    'Age': [24, 25, 28, 30]\n",
    "}\n",
    "dataframe_dict = pd.DataFrame(data_dict)\n",
    "\n",
    "#індексація\n",
    "print(\"\\nРядок 1:\")\n",
    "print(dataframe_dict.iloc[0])\n",
    "print(\"\\nРядок 2:\")\n",
    "print(dataframe_dict.loc[1])\n",
    "print(\"\\nРядок 3:\")\n",
    "print(dataframe_array.iloc[2])\n",
    "print(\"\\nРядок 4:\")\n",
    "print(dataframe_array.loc[3])"
   ]
  },
  {
   "cell_type": "markdown",
   "metadata": {},
   "source": [
    "<b>Matplotlib:</b>\n",
    "- Імпортуйте бібліотеку Matplotlib.\n",
    "- Згенеруйте дані для лінійної функції, враховуючи помилки вимірювань.\n",
    "- Побудуйте графік функції та отриманих даних.\n",
    "- Обчисліть метрики похибок MAE та MSE.\n",
    "- Запишіть результати у CSV файл.\n"
   ]
  },
  {
   "cell_type": "code",
   "execution_count": 75,
   "metadata": {},
   "outputs": [
    {
     "data": {
      "image/png": "[encoded data removed]",
      "text/plain": [
       "<Figure size 1000x600 with 1 Axes>"
      ]
     },
     "metadata": {},
     "output_type": "display_data"
    },
    {
     "name": "stdout",
     "output_type": "stream",
     "text": [
      "MAE:  {np.float64(0.8097058155741997)}\n",
      "MSE:  {np.float64(1.0194036179371049)}\n"
     ]
    }
   ],
   "source": [
    "import matplotlib.pyplot as plt\n",
    "import numpy as np\n",
    "import pandas as pd\n",
    "from sklearn.metrics import mean_absolute_error, mean_squared_error\n",
    "\n",
    "def linear_function(x):\n",
    "    return 2 * x + 3\n",
    "np.random.seed(0)\n",
    "x = np.linspace(0, 10, 100)\n",
    "y_true = linear_function(x)\n",
    "noise = np.random.normal(0, 1, size=x.shape)\n",
    "y_measured = y_true + noise\n",
    "\n",
    "plt.figure(figsize=(10, 6))\n",
    "plt.plot(x, y_true, label='Справжнє значення', color='blue')\n",
    "plt.scatter(x, y_measured, color='red', s=10, label='Виміряні дані')\n",
    "plt.xlabel('x')\n",
    "plt.ylabel('y')\n",
    "plt.title('Лінійна функція з помилками вимірювань')\n",
    "plt.legend()\n",
    "plt.grid(True)\n",
    "plt.show()\n",
    "\n",
    "mae = mean_absolute_error(y_true, y_measured)\n",
    "mse = mean_squared_error(y_true, y_measured)\n",
    "print(\"MAE: \", {mae})\n",
    "print(\"MSE: \", {mse})\n",
    "\n",
    "results = pd.DataFrame({\n",
    "    'Metric': ['MAE', 'MSE'],\n",
    "    'Value': [mae, mse]\n",
    "})\n",
    "results.to_csv('error_metrics.csv', index=False)"
   ]
  }
 ],
 "metadata": {
  "kernelspec": {
   "display_name": "Python 3",
   "language": "python",
   "name": "python3"
  },
  "language_info": {
   "codemirror_mode": {
    "name": "ipython",
    "version": 3
   },
   "file_extension": ".py",
   "mimetype": "text/x-python",
   "name": "python",
   "nbconvert_exporter": "python",
   "pygments_lexer": "ipython3",
   "version": "3.12.1"
  }
 },
 "nbformat": 4,
 "nbformat_minor": 2
}
