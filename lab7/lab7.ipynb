{
 "cells": [
  {
   "cell_type": "markdown",
   "metadata": {},
   "source": [
    "# Лабораторна робота №7 ІАД\n",
    "\n",
    "<b>Виконала:</b> студентка МІТ-31, Панченко Владислава\n",
    "\n",
    "<b>Завдання:</b>\n",
    "1. Виконати вирішення задач регресії та класифікації для наборів даних, що використовувалися в лабораторних роботах 3 та 5 з використанням Tensorflow & NN.\n",
    "2. Отримані результати викласти на github у репозиторій в основну (default) гілку в папці Lab7.\n"
   ]
  },
  {
   "cell_type": "markdown",
   "metadata": {},
   "source": [
    "Перший набір даних:"
   ]
  },
  {
   "cell_type": "code",
   "execution_count": 29,
   "metadata": {},
   "outputs": [
    {
     "name": "stdout",
     "output_type": "stream",
     "text": [
      "\u001b[1m3/3\u001b[0m \u001b[32m━━━━━━━━━━━━━━━━━━━━\u001b[0m\u001b[37m\u001b[0m \u001b[1m0s\u001b[0m 12ms/step\n",
      "Середньоквадратична похибка (MSE): 98.066844077369\n",
      "Середня абсолютна похибка (MAE): 7.94360416504274\n",
      "Коефіцієнт детермінації (R^2): 0.06816176970621557\n",
      "\u001b[1m3/3\u001b[0m \u001b[32m━━━━━━━━━━━━━━━━━━━━\u001b[0m\u001b[37m\u001b[0m \u001b[1m0s\u001b[0m 22ms/step\n",
      "Точність класифікаційної моделі: 0.8313253012048193\n"
     ]
    }
   ],
   "source": [
    "import tensorflow as tf\n",
    "import pandas as pd \n",
    "from sklearn.model_selection import train_test_split\n",
    "from sklearn.preprocessing import StandardScaler\n",
    "from sklearn.metrics import mean_squared_error, mean_absolute_error, r2_score\n",
    "from setuptools.dist import Distribution\n",
    "\n",
    "data = pd.read_csv('gendergapinaverage.csv', encoding='windows-1252')\n",
    "df = pd.DataFrame(data)\n",
    "\n",
    "X = df[['Year']]\n",
    "y = df['Gender wage gap %']\n",
    "\n",
    "X_train, X_test, y_train, y_test = train_test_split(X, y, test_size=0.2, random_state=42)\n",
    "\n",
    "scaler = StandardScaler()\n",
    "X_train_scaled = scaler.fit_transform(X_train)\n",
    "X_test_scaled = scaler.transform(X_test)\n",
    "\n",
    "model_regression = tf.keras.Sequential([\n",
    "    tf.keras.Input(shape=(X_train_scaled.shape[1],)),\n",
    "    tf.keras.layers.Dense(64, activation='relu'),\n",
    "    tf.keras.layers.Dense(32, activation='relu'),\n",
    "    tf.keras.layers.Dense(1)\n",
    "])\n",
    "\n",
    "model_regression.compile(optimizer='adam', loss='mean_squared_error')\n",
    "model_regression.fit(X_train_scaled, y_train, epochs=100, batch_size=32, validation_data=(X_test_scaled, y_test), verbose=0)\n",
    "\n",
    "y_pred_nn = model_regression.predict(X_test_scaled)\n",
    "\n",
    "mse_nn = mean_squared_error(y_test, y_pred_nn)\n",
    "mae_nn = mean_absolute_error(y_test, y_pred_nn)\n",
    "r2_nn = r2_score(y_test, y_pred_nn)\n",
    "\n",
    "print(f\"Середньоквадратична похибка (MSE): {mse_nn}\")\n",
    "print(f\"Середня абсолютна похибка (MAE): {mae_nn}\")\n",
    "print(f\"Коефіцієнт детермінації (R^2): {r2_nn}\")\n",
    "\n",
    "threshold = 20\n",
    "y_class = (y > threshold).astype(int)\n",
    "X_train, X_test, y_train_class, y_test_class = train_test_split(X, y_class, test_size=0.2, random_state=42)\n",
    "X_train_scaled = scaler.fit_transform(X_train)\n",
    "X_test_scaled = scaler.transform(X_test)\n",
    "\n",
    "model_classification = tf.keras.Sequential([\n",
    "    tf.keras.layers.Input(shape=(X_train_scaled.shape[1],)),\n",
    "    tf.keras.layers.Dense(64, activation='relu'),\n",
    "    tf.keras.layers.Dense(32, activation='relu'),\n",
    "    tf.keras.layers.Dense(1, activation='sigmoid') \n",
    "])\n",
    "model_classification.compile(optimizer='adam', loss='binary_crossentropy', metrics=['accuracy'])\n",
    "model_classification.fit(X_train_scaled, y_train_class, epochs=100, batch_size=32, validation_split=0.2, verbose=0)\n",
    "\n",
    "y_pred_class = model_classification.predict(X_test_scaled)\n",
    "y_pred_class = (y_pred_class > 0.5).astype(int)\n",
    "\n",
    "accuracy = (y_pred_class.flatten() == y_test_class.values).mean()\n",
    "print(f\"Точність класифікаційної моделі: {accuracy}\")"
   ]
  },
  {
   "cell_type": "markdown",
   "metadata": {},
   "source": [
    "Другий набір даних:"
   ]
  },
  {
   "cell_type": "code",
   "execution_count": null,
   "metadata": {},
   "outputs": [
    {
     "name": "stdout",
     "output_type": "stream",
     "text": [
      "\u001b[1m38/38\u001b[0m \u001b[32m━━━━━━━━━━━━━━━━━━━━\u001b[0m\u001b[37m\u001b[0m \u001b[1m0s\u001b[0m 2ms/step\n",
      "Середньоквадратична похибка (MSE): 5.950985432883844\n",
      "Середня абсолютна похибка (MAE): 1.893760682096084\n",
      "Коефіцієнт детермінації (R^2): 0.7220732569694519\n",
      "\u001b[1m38/38\u001b[0m \u001b[32m━━━━━━━━━━━━━━━━━━━━\u001b[0m\u001b[37m\u001b[0m \u001b[1m0s\u001b[0m 1ms/step\n",
      "Точність: 1.0\n"
     ]
    }
   ],
   "source": [
    "import numpy as np\n",
    "import pandas as pd\n",
    "from sklearn.preprocessing import StandardScaler, LabelEncoder\n",
    "from sklearn.model_selection import train_test_split\n",
    "from sklearn.metrics import accuracy_score\n",
    "import tensorflow as tf\n",
    "from setuptools.dist import Distribution\n",
    "\n",
    "data = pd.read_csv(\"16P.csv\", encoding='windows-1252')\n",
    "data = data.sample(frac=0.1, random_state=42)\n",
    "\n",
    "X = data.drop(columns=[\"Response Id\", \"Personality\"]) \n",
    "y = data[\"Personality\"]\n",
    "\n",
    "for col in X.select_dtypes(include=['object']).columns:\n",
    "    X[col] = LabelEncoder().fit_transform(X[col])\n",
    "if y.dtype == 'object':\n",
    "    y = LabelEncoder().fit_transform(y)\n",
    "\n",
    "scaler = StandardScaler()\n",
    "X_scaled = scaler.fit_transform(X)\n",
    "X_train, X_test, y_train, y_test = train_test_split(X_scaled, y, test_size=0.2, random_state=42)\n",
    "\n",
    "model_regression = tf.keras.Sequential([\n",
    "    tf.keras.layers.Input(shape=(X_train.shape[1],)),  \n",
    "    tf.keras.layers.Dense(64, activation='relu'),\n",
    "    tf.keras.layers.Dense(32, activation='relu'),\n",
    "    tf.keras.layers.Dense(1)\n",
    "])\n",
    "\n",
    "model_regression.compile(optimizer='adam', loss='mean_squared_error')\n",
    "model_regression.fit(X_train, y_train, epochs=100, batch_size=32, validation_data=(X_test, y_test), verbose=0)\n",
    "y_pred_nn = model_regression.predict(X_test)\n",
    "mse_nn = mean_squared_error(y_test, y_pred_nn)\n",
    "mae_nn = mean_absolute_error(y_test, y_pred_nn)\n",
    "r2_nn = r2_score(y_test, y_pred_nn)\n",
    "\n",
    "print(f\"Середньоквадратична похибка (MSE): {mse_nn}\")\n",
    "print(f\"Середня абсолютна похибка (MAE): {mae_nn}\")\n",
    "print(f\"Коефіцієнт детермінації (R^2): {r2_nn}\")\n",
    "\n",
    "threshold = 20\n",
    "y_class = (y > threshold).astype(int)\n",
    "X_train, X_test, y_train_class, y_test_class = train_test_split(X_scaled, y_class, test_size=0.2, random_state=42)\n",
    "\n",
    "model_classification = tf.keras.Sequential([\n",
    "    tf.keras.layers.Input(shape=(X_train.shape[1],)), \n",
    "    tf.keras.layers.Dense(64, activation='relu'),\n",
    "    tf.keras.layers.Dense(32, activation='relu'),\n",
    "    tf.keras.layers.Dense(1, activation='sigmoid') \n",
    "])\n",
    "\n",
    "model_classification.compile(optimizer='adam', loss='binary_crossentropy', metrics=['accuracy'])\n",
    "early_stopping = tf.keras.callbacks.EarlyStopping(monitor='val_loss', patience=5)\n",
    "model_classification.fit(X_train, y_train_class, epochs=100, batch_size=32, validation_split=0.2, \n",
    "                         callbacks=[early_stopping], verbose=0)\n",
    "\n",
    "y_pred_class = model_classification.predict(X_test)  \n",
    "y_pred_class = (y_pred_class > 0.5).astype(int) \n",
    "accuracy = (y_pred_class.flatten() == y_test_class.flatten()).mean()\n",
    "print(f\"Точність: {accuracy}\")"
   ]
  }
 ],
 "metadata": {
  "kernelspec": {
   "display_name": "Python 3",
   "language": "python",
   "name": "python3"
  },
  "language_info": {
   "codemirror_mode": {
    "name": "ipython",
    "version": 3
   },
   "file_extension": ".py",
   "mimetype": "text/x-python",
   "name": "python",
   "nbconvert_exporter": "python",
   "pygments_lexer": "ipython3",
   "version": "3.12.1"
  }
 },
 "nbformat": 4,
 "nbformat_minor": 2
}
